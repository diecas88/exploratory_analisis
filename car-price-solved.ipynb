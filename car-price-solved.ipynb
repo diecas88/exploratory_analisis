{
 "cells": [
  {
   "cell_type": "code",
   "metadata": {
    "tags": [],
    "cell_id": "00000-1a3068ac-cd70-4540-ba8d-eaf097887ace",
    "deepnote_to_be_reexecuted": false,
    "source_hash": "eae1d8bc",
    "execution_start": 1641607254386,
    "execution_millis": 3,
    "deepnote_cell_type": "code"
   },
   "source": "#this exercise is based in youtube tutorial by SiddHardhan\n#link: https://youtu.be/L3OtLaCbJC8\n#dataset: https://www.kaggle.com/nehalbirla/vehicle-dataset-from-cardekho?select=car+data.csv\n    ",
   "outputs": [],
   "execution_count": null
  },
  {
   "cell_type": "code",
   "metadata": {
    "tags": [],
    "cell_id": "00001-b256d892-ae6f-4896-a574-d367aa7bf0fd",
    "deepnote_to_be_reexecuted": false,
    "source_hash": "3aa401c4",
    "execution_start": 1641607254395,
    "execution_millis": 2,
    "deepnote_cell_type": "code"
   },
   "source": "import pandas as pd\nimport matplotlib.pyplot as plt\nimport seaborn as sns\nfrom sklearn.model_selection import train_test_split\nfrom sklearn.linear_model import LinearRegression\nfrom sklearn.linear_model import Lasso\nfrom sklearn import metrics",
   "outputs": [],
   "execution_count": null
  },
  {
   "cell_type": "code",
   "metadata": {
    "tags": [],
    "cell_id": "00002-7889bb3b-d786-4299-a0d5-f3afb84695e0",
    "deepnote_to_be_reexecuted": false,
    "source_hash": "af8782bb",
    "execution_start": 1641607254403,
    "execution_millis": 80,
    "deepnote_cell_type": "code"
   },
   "source": "#load the dataset from csv\ncar_dataset = pd.read_csv('car data.csv')\ncar_dataset.head(5)",
   "outputs": [
    {
     "output_type": "execute_result",
     "execution_count": 51,
     "data": {
      "application/vnd.deepnote.dataframe.v3+json": {
       "column_count": 9,
       "row_count": 5,
       "columns": [
        {
         "name": "Car_Name",
         "dtype": "object",
         "stats": {
          "unique_count": 5,
          "nan_count": 0,
          "categories": [
           {
            "name": "ritz",
            "count": 1
           },
           {
            "name": "sx4",
            "count": 1
           },
           {
            "name": "3 others",
            "count": 3
           }
          ]
         }
        },
        {
         "name": "Year",
         "dtype": "int64",
         "stats": {
          "unique_count": 4,
          "nan_count": 0,
          "min": "2011",
          "max": "2017",
          "histogram": [
           {
            "bin_start": 2011,
            "bin_end": 2011.6,
            "count": 1
           },
           {
            "bin_start": 2011.6,
            "bin_end": 2012.2,
            "count": 0
           },
           {
            "bin_start": 2012.2,
            "bin_end": 2012.8,
            "count": 0
           },
           {
            "bin_start": 2012.8,
            "bin_end": 2013.4,
            "count": 1
           },
           {
            "bin_start": 2013.4,
            "bin_end": 2014,
            "count": 0
           },
           {
            "bin_start": 2014,
            "bin_end": 2014.6,
            "count": 2
           },
           {
            "bin_start": 2014.6,
            "bin_end": 2015.2,
            "count": 0
           },
           {
            "bin_start": 2015.2,
            "bin_end": 2015.8,
            "count": 0
           },
           {
            "bin_start": 2015.8,
            "bin_end": 2016.4,
            "count": 0
           },
           {
            "bin_start": 2016.4,
            "bin_end": 2017,
            "count": 1
           }
          ]
         }
        },
        {
         "name": "Selling_Price",
         "dtype": "float64",
         "stats": {
          "unique_count": 5,
          "nan_count": 0,
          "min": "2.85",
          "max": "7.25",
          "histogram": [
           {
            "bin_start": 2.85,
            "bin_end": 3.29,
            "count": 1
           },
           {
            "bin_start": 3.29,
            "bin_end": 3.7300000000000004,
            "count": 1
           },
           {
            "bin_start": 3.7300000000000004,
            "bin_end": 4.17,
            "count": 0
           },
           {
            "bin_start": 4.17,
            "bin_end": 4.61,
            "count": 1
           },
           {
            "bin_start": 4.61,
            "bin_end": 5.050000000000001,
            "count": 1
           },
           {
            "bin_start": 5.050000000000001,
            "bin_end": 5.49,
            "count": 0
           },
           {
            "bin_start": 5.49,
            "bin_end": 5.930000000000001,
            "count": 0
           },
           {
            "bin_start": 5.930000000000001,
            "bin_end": 6.370000000000001,
            "count": 0
           },
           {
            "bin_start": 6.370000000000001,
            "bin_end": 6.8100000000000005,
            "count": 0
           },
           {
            "bin_start": 6.8100000000000005,
            "bin_end": 7.25,
            "count": 1
           }
          ]
         }
        },
        {
         "name": "Present_Price",
         "dtype": "float64",
         "stats": {
          "unique_count": 5,
          "nan_count": 0,
          "min": "4.15",
          "max": "9.85",
          "histogram": [
           {
            "bin_start": 4.15,
            "bin_end": 4.720000000000001,
            "count": 1
           },
           {
            "bin_start": 4.720000000000001,
            "bin_end": 5.29,
            "count": 0
           },
           {
            "bin_start": 5.29,
            "bin_end": 5.86,
            "count": 1
           },
           {
            "bin_start": 5.86,
            "bin_end": 6.43,
            "count": 0
           },
           {
            "bin_start": 6.43,
            "bin_end": 7,
            "count": 1
           },
           {
            "bin_start": 7,
            "bin_end": 7.57,
            "count": 0
           },
           {
            "bin_start": 7.57,
            "bin_end": 8.14,
            "count": 0
           },
           {
            "bin_start": 8.14,
            "bin_end": 8.71,
            "count": 0
           },
           {
            "bin_start": 8.71,
            "bin_end": 9.280000000000001,
            "count": 0
           },
           {
            "bin_start": 9.280000000000001,
            "bin_end": 9.85,
            "count": 2
           }
          ]
         }
        },
        {
         "name": "Kms_Driven",
         "dtype": "int64",
         "stats": {
          "unique_count": 5,
          "nan_count": 0,
          "min": "5200",
          "max": "43000",
          "histogram": [
           {
            "bin_start": 5200,
            "bin_end": 8980,
            "count": 2
           },
           {
            "bin_start": 8980,
            "bin_end": 12760,
            "count": 0
           },
           {
            "bin_start": 12760,
            "bin_end": 16540,
            "count": 0
           },
           {
            "bin_start": 16540,
            "bin_end": 20320,
            "count": 0
           },
           {
            "bin_start": 20320,
            "bin_end": 24100,
            "count": 0
           },
           {
            "bin_start": 24100,
            "bin_end": 27880,
            "count": 1
           },
           {
            "bin_start": 27880,
            "bin_end": 31660,
            "count": 0
           },
           {
            "bin_start": 31660,
            "bin_end": 35440,
            "count": 0
           },
           {
            "bin_start": 35440,
            "bin_end": 39220,
            "count": 0
           },
           {
            "bin_start": 39220,
            "bin_end": 43000,
            "count": 2
           }
          ]
         }
        },
        {
         "name": "Fuel_Type",
         "dtype": "object",
         "stats": {
          "unique_count": 2,
          "nan_count": 0,
          "categories": [
           {
            "name": "Petrol",
            "count": 3
           },
           {
            "name": "Diesel",
            "count": 2
           }
          ]
         }
        },
        {
         "name": "Seller_Type",
         "dtype": "object",
         "stats": {
          "unique_count": 1,
          "nan_count": 0,
          "categories": [
           {
            "name": "Dealer",
            "count": 5
           }
          ]
         }
        },
        {
         "name": "Transmission",
         "dtype": "object",
         "stats": {
          "unique_count": 1,
          "nan_count": 0,
          "categories": [
           {
            "name": "Manual",
            "count": 5
           }
          ]
         }
        },
        {
         "name": "Owner",
         "dtype": "int64",
         "stats": {
          "unique_count": 1,
          "nan_count": 0,
          "min": "0",
          "max": "0",
          "histogram": [
           {
            "bin_start": -0.5,
            "bin_end": -0.4,
            "count": 0
           },
           {
            "bin_start": -0.4,
            "bin_end": -0.3,
            "count": 0
           },
           {
            "bin_start": -0.3,
            "bin_end": -0.19999999999999996,
            "count": 0
           },
           {
            "bin_start": -0.19999999999999996,
            "bin_end": -0.09999999999999998,
            "count": 0
           },
           {
            "bin_start": -0.09999999999999998,
            "bin_end": 0,
            "count": 0
           },
           {
            "bin_start": 0,
            "bin_end": 0.10000000000000009,
            "count": 5
           },
           {
            "bin_start": 0.10000000000000009,
            "bin_end": 0.20000000000000007,
            "count": 0
           },
           {
            "bin_start": 0.20000000000000007,
            "bin_end": 0.30000000000000004,
            "count": 0
           },
           {
            "bin_start": 0.30000000000000004,
            "bin_end": 0.4,
            "count": 0
           },
           {
            "bin_start": 0.4,
            "bin_end": 0.5,
            "count": 0
           }
          ]
         }
        },
        {
         "name": "_deepnote_index_column",
         "dtype": "int64"
        }
       ],
       "rows": [
        {
         "Car_Name": "ritz",
         "Year": 2014,
         "Selling_Price": 3.35,
         "Present_Price": 5.59,
         "Kms_Driven": 27000,
         "Fuel_Type": "Petrol",
         "Seller_Type": "Dealer",
         "Transmission": "Manual",
         "Owner": 0,
         "_deepnote_index_column": 0
        },
        {
         "Car_Name": "sx4",
         "Year": 2013,
         "Selling_Price": 4.75,
         "Present_Price": 9.54,
         "Kms_Driven": 43000,
         "Fuel_Type": "Diesel",
         "Seller_Type": "Dealer",
         "Transmission": "Manual",
         "Owner": 0,
         "_deepnote_index_column": 1
        },
        {
         "Car_Name": "ciaz",
         "Year": 2017,
         "Selling_Price": 7.25,
         "Present_Price": 9.85,
         "Kms_Driven": 6900,
         "Fuel_Type": "Petrol",
         "Seller_Type": "Dealer",
         "Transmission": "Manual",
         "Owner": 0,
         "_deepnote_index_column": 2
        },
        {
         "Car_Name": "wagon r",
         "Year": 2011,
         "Selling_Price": 2.85,
         "Present_Price": 4.15,
         "Kms_Driven": 5200,
         "Fuel_Type": "Petrol",
         "Seller_Type": "Dealer",
         "Transmission": "Manual",
         "Owner": 0,
         "_deepnote_index_column": 3
        },
        {
         "Car_Name": "swift",
         "Year": 2014,
         "Selling_Price": 4.6,
         "Present_Price": 6.87,
         "Kms_Driven": 42450,
         "Fuel_Type": "Diesel",
         "Seller_Type": "Dealer",
         "Transmission": "Manual",
         "Owner": 0,
         "_deepnote_index_column": 4
        }
       ]
      },
      "text/plain": "  Car_Name  Year  Selling_Price  Present_Price  Kms_Driven Fuel_Type  \\\n0     ritz  2014           3.35           5.59       27000    Petrol   \n1      sx4  2013           4.75           9.54       43000    Diesel   \n2     ciaz  2017           7.25           9.85        6900    Petrol   \n3  wagon r  2011           2.85           4.15        5200    Petrol   \n4    swift  2014           4.60           6.87       42450    Diesel   \n\n  Seller_Type Transmission  Owner  \n0      Dealer       Manual      0  \n1      Dealer       Manual      0  \n2      Dealer       Manual      0  \n3      Dealer       Manual      0  \n4      Dealer       Manual      0  ",
      "text/html": "<div>\n<style scoped>\n    .dataframe tbody tr th:only-of-type {\n        vertical-align: middle;\n    }\n\n    .dataframe tbody tr th {\n        vertical-align: top;\n    }\n\n    .dataframe thead th {\n        text-align: right;\n    }\n</style>\n<table border=\"1\" class=\"dataframe\">\n  <thead>\n    <tr style=\"text-align: right;\">\n      <th></th>\n      <th>Car_Name</th>\n      <th>Year</th>\n      <th>Selling_Price</th>\n      <th>Present_Price</th>\n      <th>Kms_Driven</th>\n      <th>Fuel_Type</th>\n      <th>Seller_Type</th>\n      <th>Transmission</th>\n      <th>Owner</th>\n    </tr>\n  </thead>\n  <tbody>\n    <tr>\n      <th>0</th>\n      <td>ritz</td>\n      <td>2014</td>\n      <td>3.35</td>\n      <td>5.59</td>\n      <td>27000</td>\n      <td>Petrol</td>\n      <td>Dealer</td>\n      <td>Manual</td>\n      <td>0</td>\n    </tr>\n    <tr>\n      <th>1</th>\n      <td>sx4</td>\n      <td>2013</td>\n      <td>4.75</td>\n      <td>9.54</td>\n      <td>43000</td>\n      <td>Diesel</td>\n      <td>Dealer</td>\n      <td>Manual</td>\n      <td>0</td>\n    </tr>\n    <tr>\n      <th>2</th>\n      <td>ciaz</td>\n      <td>2017</td>\n      <td>7.25</td>\n      <td>9.85</td>\n      <td>6900</td>\n      <td>Petrol</td>\n      <td>Dealer</td>\n      <td>Manual</td>\n      <td>0</td>\n    </tr>\n    <tr>\n      <th>3</th>\n      <td>wagon r</td>\n      <td>2011</td>\n      <td>2.85</td>\n      <td>4.15</td>\n      <td>5200</td>\n      <td>Petrol</td>\n      <td>Dealer</td>\n      <td>Manual</td>\n      <td>0</td>\n    </tr>\n    <tr>\n      <th>4</th>\n      <td>swift</td>\n      <td>2014</td>\n      <td>4.60</td>\n      <td>6.87</td>\n      <td>42450</td>\n      <td>Diesel</td>\n      <td>Dealer</td>\n      <td>Manual</td>\n      <td>0</td>\n    </tr>\n  </tbody>\n</table>\n</div>"
     },
     "metadata": {}
    }
   ],
   "execution_count": null
  },
  {
   "cell_type": "code",
   "metadata": {
    "tags": [],
    "cell_id": "00003-4be67a5d-d5e8-407f-bb02-c20f27f540d6",
    "deepnote_to_be_reexecuted": false,
    "source_hash": "a2641f45",
    "execution_start": 1641607254484,
    "execution_millis": 31,
    "deepnote_output_heights": [
     null,
     193.875
    ],
    "deepnote_cell_type": "code"
   },
   "source": "#count rows & columns , (301 rows & 9 columns)\ncar_dataset.shape\ncar_dataset.info()\n#df = pd.DataFrame(car_dataset)\n#df.isna().sum()\ncar_dataset.isnull().sum()",
   "outputs": [
    {
     "name": "stdout",
     "text": "<class 'pandas.core.frame.DataFrame'>\nRangeIndex: 301 entries, 0 to 300\nData columns (total 9 columns):\n #   Column         Non-Null Count  Dtype  \n---  ------         --------------  -----  \n 0   Car_Name       301 non-null    object \n 1   Year           301 non-null    int64  \n 2   Selling_Price  301 non-null    float64\n 3   Present_Price  301 non-null    float64\n 4   Kms_Driven     301 non-null    int64  \n 5   Fuel_Type      301 non-null    object \n 6   Seller_Type    301 non-null    object \n 7   Transmission   301 non-null    object \n 8   Owner          301 non-null    int64  \ndtypes: float64(2), int64(3), object(4)\nmemory usage: 21.3+ KB\n",
     "output_type": "stream",
     "data": {}
    },
    {
     "output_type": "execute_result",
     "execution_count": 52,
     "data": {
      "text/plain": "Car_Name         0\nYear             0\nSelling_Price    0\nPresent_Price    0\nKms_Driven       0\nFuel_Type        0\nSeller_Type      0\nTransmission     0\nOwner            0\ndtype: int64"
     },
     "metadata": {}
    }
   ],
   "execution_count": null
  },
  {
   "cell_type": "code",
   "metadata": {
    "tags": [],
    "cell_id": "00004-067c6920-0be0-414f-8507-ddc9a584b243",
    "deepnote_to_be_reexecuted": false,
    "source_hash": "6e747008",
    "execution_start": 1641607254516,
    "execution_millis": 18,
    "deepnote_cell_type": "code"
   },
   "source": "#categorical data\nprint(car_dataset.Fuel_Type.value_counts())\nprint(car_dataset.Seller_Type.value_counts())\nprint(car_dataset.Transmission.value_counts())",
   "outputs": [
    {
     "name": "stdout",
     "text": "Petrol    239\nDiesel     60\nCNG         2\nName: Fuel_Type, dtype: int64\nDealer        195\nIndividual    106\nName: Seller_Type, dtype: int64\nManual       261\nAutomatic     40\nName: Transmission, dtype: int64\n",
     "output_type": "stream",
     "data": {}
    }
   ],
   "execution_count": null
  },
  {
   "cell_type": "code",
   "metadata": {
    "tags": [],
    "cell_id": "00005-c6f7d9a9-ac15-4a30-a378-1b427f5a767e",
    "deepnote_to_be_reexecuted": false,
    "source_hash": "80a4fb40",
    "execution_start": 1641607254542,
    "execution_millis": 94,
    "deepnote_table_state": {
     "pageSize": 10,
     "pageIndex": 0,
     "filters": [],
     "sortBy": []
    },
    "deepnote_table_loading": false,
    "deepnote_cell_type": "code"
   },
   "source": "#encoding data from categorical to numerical\ncar_dataset.replace({'Fuel_Type':{'Petrol':0, 'Diesel':1, 'CNG':2}},inplace=True)\ncar_dataset.replace({'Seller_Type':{'Dealer':0, 'Individual':1}},inplace=True)\ncar_dataset.replace({'Transmission':{'Manual':0, 'Automatic':1}},inplace=True)\ncar_dataset.head(20)",
   "outputs": [
    {
     "output_type": "execute_result",
     "execution_count": 54,
     "data": {
      "application/vnd.deepnote.dataframe.v3+json": {
       "column_count": 9,
       "row_count": 20,
       "columns": [
        {
         "name": "Car_Name",
         "dtype": "object",
         "stats": {
          "unique_count": 10,
          "nan_count": 0,
          "categories": [
           {
            "name": "ciaz",
            "count": 6
           },
           {
            "name": "ertiga",
            "count": 4
           },
           {
            "name": "8 others",
            "count": 10
           }
          ]
         }
        },
        {
         "name": "Year",
         "dtype": "int64",
         "stats": {
          "unique_count": 9,
          "nan_count": 0,
          "min": "2009",
          "max": "2018",
          "histogram": [
           {
            "bin_start": 2009,
            "bin_end": 2009.9,
            "count": 1
           },
           {
            "bin_start": 2009.9,
            "bin_end": 2010.8,
            "count": 1
           },
           {
            "bin_start": 2010.8,
            "bin_end": 2011.7,
            "count": 1
           },
           {
            "bin_start": 2011.7,
            "bin_end": 2012.6,
            "count": 0
           },
           {
            "bin_start": 2012.6,
            "bin_end": 2013.5,
            "count": 1
           },
           {
            "bin_start": 2013.5,
            "bin_end": 2014.4,
            "count": 2
           },
           {
            "bin_start": 2014.4,
            "bin_end": 2015.3,
            "count": 8
           },
           {
            "bin_start": 2015.3,
            "bin_end": 2016.2,
            "count": 3
           },
           {
            "bin_start": 2016.2,
            "bin_end": 2017.1,
            "count": 2
           },
           {
            "bin_start": 2017.1,
            "bin_end": 2018,
            "count": 1
           }
          ]
         }
        },
        {
         "name": "Selling_Price",
         "dtype": "float64",
         "stats": {
          "unique_count": 17,
          "nan_count": 0,
          "min": "2.25",
          "max": "9.25",
          "histogram": [
           {
            "bin_start": 2.25,
            "bin_end": 2.95,
            "count": 4
           },
           {
            "bin_start": 2.95,
            "bin_end": 3.65,
            "count": 2
           },
           {
            "bin_start": 3.65,
            "bin_end": 4.35,
            "count": 0
           },
           {
            "bin_start": 4.35,
            "bin_end": 5.05,
            "count": 2
           },
           {
            "bin_start": 5.05,
            "bin_end": 5.75,
            "count": 0
           },
           {
            "bin_start": 5.75,
            "bin_end": 6.449999999999999,
            "count": 1
           },
           {
            "bin_start": 6.449999999999999,
            "bin_end": 7.1499999999999995,
            "count": 3
           },
           {
            "bin_start": 7.1499999999999995,
            "bin_end": 7.85,
            "count": 6
           },
           {
            "bin_start": 7.85,
            "bin_end": 8.55,
            "count": 0
           },
           {
            "bin_start": 8.55,
            "bin_end": 9.25,
            "count": 2
           }
          ]
         }
        },
        {
         "name": "Present_Price",
         "dtype": "float64",
         "stats": {
          "unique_count": 18,
          "nan_count": 0,
          "min": "3.6",
          "max": "10.79",
          "histogram": [
           {
            "bin_start": 3.6,
            "bin_end": 4.319,
            "count": 2
           },
           {
            "bin_start": 4.319,
            "bin_end": 5.038,
            "count": 0
           },
           {
            "bin_start": 5.038,
            "bin_end": 5.757,
            "count": 2
           },
           {
            "bin_start": 5.757,
            "bin_end": 6.476,
            "count": 0
           },
           {
            "bin_start": 6.476,
            "bin_end": 7.195,
            "count": 1
           },
           {
            "bin_start": 7.195,
            "bin_end": 7.914,
            "count": 2
           },
           {
            "bin_start": 7.914,
            "bin_end": 8.633,
            "count": 3
           },
           {
            "bin_start": 8.633,
            "bin_end": 9.352,
            "count": 2
           },
           {
            "bin_start": 9.352,
            "bin_end": 10.071,
            "count": 4
           },
           {
            "bin_start": 10.071,
            "bin_end": 10.79,
            "count": 4
           }
          ]
         }
        },
        {
         "name": "Kms_Driven",
         "dtype": "int64",
         "stats": {
          "unique_count": 18,
          "nan_count": 0,
          "min": "2071",
          "max": "77427",
          "histogram": [
           {
            "bin_start": 2071,
            "bin_end": 9606.6,
            "count": 4
           },
           {
            "bin_start": 9606.6,
            "bin_end": 17142.2,
            "count": 1
           },
           {
            "bin_start": 17142.2,
            "bin_end": 24677.800000000003,
            "count": 2
           },
           {
            "bin_start": 24677.800000000003,
            "bin_end": 32213.4,
            "count": 2
           },
           {
            "bin_start": 32213.4,
            "bin_end": 39749,
            "count": 2
           },
           {
            "bin_start": 39749,
            "bin_end": 47284.600000000006,
            "count": 7
           },
           {
            "bin_start": 47284.600000000006,
            "bin_end": 54820.200000000004,
            "count": 1
           },
           {
            "bin_start": 54820.200000000004,
            "bin_end": 62355.8,
            "count": 0
           },
           {
            "bin_start": 62355.8,
            "bin_end": 69891.40000000001,
            "count": 0
           },
           {
            "bin_start": 69891.40000000001,
            "bin_end": 77427,
            "count": 1
           }
          ]
         }
        },
        {
         "name": "Fuel_Type",
         "dtype": "int64",
         "stats": {
          "unique_count": 3,
          "nan_count": 0,
          "min": "0",
          "max": "2",
          "histogram": [
           {
            "bin_start": 0,
            "bin_end": 0.2,
            "count": 9
           },
           {
            "bin_start": 0.2,
            "bin_end": 0.4,
            "count": 0
           },
           {
            "bin_start": 0.4,
            "bin_end": 0.6000000000000001,
            "count": 0
           },
           {
            "bin_start": 0.6000000000000001,
            "bin_end": 0.8,
            "count": 0
           },
           {
            "bin_start": 0.8,
            "bin_end": 1,
            "count": 0
           },
           {
            "bin_start": 1,
            "bin_end": 1.2000000000000002,
            "count": 10
           },
           {
            "bin_start": 1.2000000000000002,
            "bin_end": 1.4000000000000001,
            "count": 0
           },
           {
            "bin_start": 1.4000000000000001,
            "bin_end": 1.6,
            "count": 0
           },
           {
            "bin_start": 1.6,
            "bin_end": 1.8,
            "count": 0
           },
           {
            "bin_start": 1.8,
            "bin_end": 2,
            "count": 1
           }
          ]
         }
        },
        {
         "name": "Seller_Type",
         "dtype": "int64",
         "stats": {
          "unique_count": 1,
          "nan_count": 0,
          "min": "0",
          "max": "0",
          "histogram": [
           {
            "bin_start": -0.5,
            "bin_end": -0.4,
            "count": 0
           },
           {
            "bin_start": -0.4,
            "bin_end": -0.3,
            "count": 0
           },
           {
            "bin_start": -0.3,
            "bin_end": -0.19999999999999996,
            "count": 0
           },
           {
            "bin_start": -0.19999999999999996,
            "bin_end": -0.09999999999999998,
            "count": 0
           },
           {
            "bin_start": -0.09999999999999998,
            "bin_end": 0,
            "count": 0
           },
           {
            "bin_start": 0,
            "bin_end": 0.10000000000000009,
            "count": 20
           },
           {
            "bin_start": 0.10000000000000009,
            "bin_end": 0.20000000000000007,
            "count": 0
           },
           {
            "bin_start": 0.20000000000000007,
            "bin_end": 0.30000000000000004,
            "count": 0
           },
           {
            "bin_start": 0.30000000000000004,
            "bin_end": 0.4,
            "count": 0
           },
           {
            "bin_start": 0.4,
            "bin_end": 0.5,
            "count": 0
           }
          ]
         }
        },
        {
         "name": "Transmission",
         "dtype": "int64",
         "stats": {
          "unique_count": 2,
          "nan_count": 0,
          "min": "0",
          "max": "1",
          "histogram": [
           {
            "bin_start": 0,
            "bin_end": 0.1,
            "count": 19
           },
           {
            "bin_start": 0.1,
            "bin_end": 0.2,
            "count": 0
           },
           {
            "bin_start": 0.2,
            "bin_end": 0.30000000000000004,
            "count": 0
           },
           {
            "bin_start": 0.30000000000000004,
            "bin_end": 0.4,
            "count": 0
           },
           {
            "bin_start": 0.4,
            "bin_end": 0.5,
            "count": 0
           },
           {
            "bin_start": 0.5,
            "bin_end": 0.6000000000000001,
            "count": 0
           },
           {
            "bin_start": 0.6000000000000001,
            "bin_end": 0.7000000000000001,
            "count": 0
           },
           {
            "bin_start": 0.7000000000000001,
            "bin_end": 0.8,
            "count": 0
           },
           {
            "bin_start": 0.8,
            "bin_end": 0.9,
            "count": 0
           },
           {
            "bin_start": 0.9,
            "bin_end": 1,
            "count": 1
           }
          ]
         }
        },
        {
         "name": "Owner",
         "dtype": "int64",
         "stats": {
          "unique_count": 1,
          "nan_count": 0,
          "min": "0",
          "max": "0",
          "histogram": [
           {
            "bin_start": -0.5,
            "bin_end": -0.4,
            "count": 0
           },
           {
            "bin_start": -0.4,
            "bin_end": -0.3,
            "count": 0
           },
           {
            "bin_start": -0.3,
            "bin_end": -0.19999999999999996,
            "count": 0
           },
           {
            "bin_start": -0.19999999999999996,
            "bin_end": -0.09999999999999998,
            "count": 0
           },
           {
            "bin_start": -0.09999999999999998,
            "bin_end": 0,
            "count": 0
           },
           {
            "bin_start": 0,
            "bin_end": 0.10000000000000009,
            "count": 20
           },
           {
            "bin_start": 0.10000000000000009,
            "bin_end": 0.20000000000000007,
            "count": 0
           },
           {
            "bin_start": 0.20000000000000007,
            "bin_end": 0.30000000000000004,
            "count": 0
           },
           {
            "bin_start": 0.30000000000000004,
            "bin_end": 0.4,
            "count": 0
           },
           {
            "bin_start": 0.4,
            "bin_end": 0.5,
            "count": 0
           }
          ]
         }
        },
        {
         "name": "_deepnote_index_column",
         "dtype": "int64"
        }
       ],
       "rows": [
        {
         "Car_Name": "ritz",
         "Year": 2014,
         "Selling_Price": 3.35,
         "Present_Price": 5.59,
         "Kms_Driven": 27000,
         "Fuel_Type": 0,
         "Seller_Type": 0,
         "Transmission": 0,
         "Owner": 0,
         "_deepnote_index_column": 0
        },
        {
         "Car_Name": "sx4",
         "Year": 2013,
         "Selling_Price": 4.75,
         "Present_Price": 9.54,
         "Kms_Driven": 43000,
         "Fuel_Type": 1,
         "Seller_Type": 0,
         "Transmission": 0,
         "Owner": 0,
         "_deepnote_index_column": 1
        },
        {
         "Car_Name": "ciaz",
         "Year": 2017,
         "Selling_Price": 7.25,
         "Present_Price": 9.85,
         "Kms_Driven": 6900,
         "Fuel_Type": 0,
         "Seller_Type": 0,
         "Transmission": 0,
         "Owner": 0,
         "_deepnote_index_column": 2
        },
        {
         "Car_Name": "wagon r",
         "Year": 2011,
         "Selling_Price": 2.85,
         "Present_Price": 4.15,
         "Kms_Driven": 5200,
         "Fuel_Type": 0,
         "Seller_Type": 0,
         "Transmission": 0,
         "Owner": 0,
         "_deepnote_index_column": 3
        },
        {
         "Car_Name": "swift",
         "Year": 2014,
         "Selling_Price": 4.6,
         "Present_Price": 6.87,
         "Kms_Driven": 42450,
         "Fuel_Type": 1,
         "Seller_Type": 0,
         "Transmission": 0,
         "Owner": 0,
         "_deepnote_index_column": 4
        },
        {
         "Car_Name": "vitara brezza",
         "Year": 2018,
         "Selling_Price": 9.25,
         "Present_Price": 9.83,
         "Kms_Driven": 2071,
         "Fuel_Type": 1,
         "Seller_Type": 0,
         "Transmission": 0,
         "Owner": 0,
         "_deepnote_index_column": 5
        },
        {
         "Car_Name": "ciaz",
         "Year": 2015,
         "Selling_Price": 6.75,
         "Present_Price": 8.12,
         "Kms_Driven": 18796,
         "Fuel_Type": 0,
         "Seller_Type": 0,
         "Transmission": 0,
         "Owner": 0,
         "_deepnote_index_column": 6
        },
        {
         "Car_Name": "s cross",
         "Year": 2015,
         "Selling_Price": 6.5,
         "Present_Price": 8.61,
         "Kms_Driven": 33429,
         "Fuel_Type": 1,
         "Seller_Type": 0,
         "Transmission": 0,
         "Owner": 0,
         "_deepnote_index_column": 7
        },
        {
         "Car_Name": "ciaz",
         "Year": 2016,
         "Selling_Price": 8.75,
         "Present_Price": 8.89,
         "Kms_Driven": 20273,
         "Fuel_Type": 1,
         "Seller_Type": 0,
         "Transmission": 0,
         "Owner": 0,
         "_deepnote_index_column": 8
        },
        {
         "Car_Name": "ciaz",
         "Year": 2015,
         "Selling_Price": 7.45,
         "Present_Price": 8.92,
         "Kms_Driven": 42367,
         "Fuel_Type": 1,
         "Seller_Type": 0,
         "Transmission": 0,
         "Owner": 0,
         "_deepnote_index_column": 9
        }
       ]
      },
      "text/plain": "         Car_Name  Year  Selling_Price  Present_Price  Kms_Driven  Fuel_Type  \\\n0            ritz  2014           3.35           5.59       27000          0   \n1             sx4  2013           4.75           9.54       43000          1   \n2            ciaz  2017           7.25           9.85        6900          0   \n3         wagon r  2011           2.85           4.15        5200          0   \n4           swift  2014           4.60           6.87       42450          1   \n5   vitara brezza  2018           9.25           9.83        2071          1   \n6            ciaz  2015           6.75           8.12       18796          0   \n7         s cross  2015           6.50           8.61       33429          1   \n8            ciaz  2016           8.75           8.89       20273          1   \n9            ciaz  2015           7.45           8.92       42367          1   \n10       alto 800  2017           2.85           3.60        2135          0   \n11           ciaz  2015           6.85          10.38       51000          1   \n12           ciaz  2015           7.50           9.94       15000          0   \n13         ertiga  2015           6.10           7.71       26000          0   \n14          dzire  2009           2.25           7.21       77427          0   \n15         ertiga  2016           7.75          10.79       43000          1   \n16         ertiga  2015           7.25          10.79       41678          1   \n17         ertiga  2016           7.75          10.79       43000          1   \n18        wagon r  2015           3.25           5.09       35500          2   \n19            sx4  2010           2.65           7.98       41442          0   \n\n    Seller_Type  Transmission  Owner  \n0             0             0      0  \n1             0             0      0  \n2             0             0      0  \n3             0             0      0  \n4             0             0      0  \n5             0             0      0  \n6             0             0      0  \n7             0             0      0  \n8             0             0      0  \n9             0             0      0  \n10            0             0      0  \n11            0             0      0  \n12            0             1      0  \n13            0             0      0  \n14            0             0      0  \n15            0             0      0  \n16            0             0      0  \n17            0             0      0  \n18            0             0      0  \n19            0             0      0  ",
      "text/html": "<div>\n<style scoped>\n    .dataframe tbody tr th:only-of-type {\n        vertical-align: middle;\n    }\n\n    .dataframe tbody tr th {\n        vertical-align: top;\n    }\n\n    .dataframe thead th {\n        text-align: right;\n    }\n</style>\n<table border=\"1\" class=\"dataframe\">\n  <thead>\n    <tr style=\"text-align: right;\">\n      <th></th>\n      <th>Car_Name</th>\n      <th>Year</th>\n      <th>Selling_Price</th>\n      <th>Present_Price</th>\n      <th>Kms_Driven</th>\n      <th>Fuel_Type</th>\n      <th>Seller_Type</th>\n      <th>Transmission</th>\n      <th>Owner</th>\n    </tr>\n  </thead>\n  <tbody>\n    <tr>\n      <th>0</th>\n      <td>ritz</td>\n      <td>2014</td>\n      <td>3.35</td>\n      <td>5.59</td>\n      <td>27000</td>\n      <td>0</td>\n      <td>0</td>\n      <td>0</td>\n      <td>0</td>\n    </tr>\n    <tr>\n      <th>1</th>\n      <td>sx4</td>\n      <td>2013</td>\n      <td>4.75</td>\n      <td>9.54</td>\n      <td>43000</td>\n      <td>1</td>\n      <td>0</td>\n      <td>0</td>\n      <td>0</td>\n    </tr>\n    <tr>\n      <th>2</th>\n      <td>ciaz</td>\n      <td>2017</td>\n      <td>7.25</td>\n      <td>9.85</td>\n      <td>6900</td>\n      <td>0</td>\n      <td>0</td>\n      <td>0</td>\n      <td>0</td>\n    </tr>\n    <tr>\n      <th>3</th>\n      <td>wagon r</td>\n      <td>2011</td>\n      <td>2.85</td>\n      <td>4.15</td>\n      <td>5200</td>\n      <td>0</td>\n      <td>0</td>\n      <td>0</td>\n      <td>0</td>\n    </tr>\n    <tr>\n      <th>4</th>\n      <td>swift</td>\n      <td>2014</td>\n      <td>4.60</td>\n      <td>6.87</td>\n      <td>42450</td>\n      <td>1</td>\n      <td>0</td>\n      <td>0</td>\n      <td>0</td>\n    </tr>\n    <tr>\n      <th>5</th>\n      <td>vitara brezza</td>\n      <td>2018</td>\n      <td>9.25</td>\n      <td>9.83</td>\n      <td>2071</td>\n      <td>1</td>\n      <td>0</td>\n      <td>0</td>\n      <td>0</td>\n    </tr>\n    <tr>\n      <th>6</th>\n      <td>ciaz</td>\n      <td>2015</td>\n      <td>6.75</td>\n      <td>8.12</td>\n      <td>18796</td>\n      <td>0</td>\n      <td>0</td>\n      <td>0</td>\n      <td>0</td>\n    </tr>\n    <tr>\n      <th>7</th>\n      <td>s cross</td>\n      <td>2015</td>\n      <td>6.50</td>\n      <td>8.61</td>\n      <td>33429</td>\n      <td>1</td>\n      <td>0</td>\n      <td>0</td>\n      <td>0</td>\n    </tr>\n    <tr>\n      <th>8</th>\n      <td>ciaz</td>\n      <td>2016</td>\n      <td>8.75</td>\n      <td>8.89</td>\n      <td>20273</td>\n      <td>1</td>\n      <td>0</td>\n      <td>0</td>\n      <td>0</td>\n    </tr>\n    <tr>\n      <th>9</th>\n      <td>ciaz</td>\n      <td>2015</td>\n      <td>7.45</td>\n      <td>8.92</td>\n      <td>42367</td>\n      <td>1</td>\n      <td>0</td>\n      <td>0</td>\n      <td>0</td>\n    </tr>\n    <tr>\n      <th>10</th>\n      <td>alto 800</td>\n      <td>2017</td>\n      <td>2.85</td>\n      <td>3.60</td>\n      <td>2135</td>\n      <td>0</td>\n      <td>0</td>\n      <td>0</td>\n      <td>0</td>\n    </tr>\n    <tr>\n      <th>11</th>\n      <td>ciaz</td>\n      <td>2015</td>\n      <td>6.85</td>\n      <td>10.38</td>\n      <td>51000</td>\n      <td>1</td>\n      <td>0</td>\n      <td>0</td>\n      <td>0</td>\n    </tr>\n    <tr>\n      <th>12</th>\n      <td>ciaz</td>\n      <td>2015</td>\n      <td>7.50</td>\n      <td>9.94</td>\n      <td>15000</td>\n      <td>0</td>\n      <td>0</td>\n      <td>1</td>\n      <td>0</td>\n    </tr>\n    <tr>\n      <th>13</th>\n      <td>ertiga</td>\n      <td>2015</td>\n      <td>6.10</td>\n      <td>7.71</td>\n      <td>26000</td>\n      <td>0</td>\n      <td>0</td>\n      <td>0</td>\n      <td>0</td>\n    </tr>\n    <tr>\n      <th>14</th>\n      <td>dzire</td>\n      <td>2009</td>\n      <td>2.25</td>\n      <td>7.21</td>\n      <td>77427</td>\n      <td>0</td>\n      <td>0</td>\n      <td>0</td>\n      <td>0</td>\n    </tr>\n    <tr>\n      <th>15</th>\n      <td>ertiga</td>\n      <td>2016</td>\n      <td>7.75</td>\n      <td>10.79</td>\n      <td>43000</td>\n      <td>1</td>\n      <td>0</td>\n      <td>0</td>\n      <td>0</td>\n    </tr>\n    <tr>\n      <th>16</th>\n      <td>ertiga</td>\n      <td>2015</td>\n      <td>7.25</td>\n      <td>10.79</td>\n      <td>41678</td>\n      <td>1</td>\n      <td>0</td>\n      <td>0</td>\n      <td>0</td>\n    </tr>\n    <tr>\n      <th>17</th>\n      <td>ertiga</td>\n      <td>2016</td>\n      <td>7.75</td>\n      <td>10.79</td>\n      <td>43000</td>\n      <td>1</td>\n      <td>0</td>\n      <td>0</td>\n      <td>0</td>\n    </tr>\n    <tr>\n      <th>18</th>\n      <td>wagon r</td>\n      <td>2015</td>\n      <td>3.25</td>\n      <td>5.09</td>\n      <td>35500</td>\n      <td>2</td>\n      <td>0</td>\n      <td>0</td>\n      <td>0</td>\n    </tr>\n    <tr>\n      <th>19</th>\n      <td>sx4</td>\n      <td>2010</td>\n      <td>2.65</td>\n      <td>7.98</td>\n      <td>41442</td>\n      <td>0</td>\n      <td>0</td>\n      <td>0</td>\n      <td>0</td>\n    </tr>\n  </tbody>\n</table>\n</div>"
     },
     "metadata": {}
    }
   ],
   "execution_count": null
  },
  {
   "cell_type": "code",
   "metadata": {
    "tags": [],
    "cell_id": "00006-10d80f45-fe1e-43fd-a036-b45c72b4892f",
    "deepnote_to_be_reexecuted": false,
    "source_hash": "2fd1212c",
    "execution_start": 1641607254641,
    "execution_millis": 20,
    "deepnote_cell_type": "code"
   },
   "source": "#split test & training data\n#axis = 1 for column , axis = 0 for row\nX = car_dataset.drop(['Car_Name','Selling_Price'], axis = 1)\nY = car_dataset['Selling_Price']\nprint(X)\nprint(Y)",
   "outputs": [
    {
     "name": "stdout",
     "text": "     Year  Present_Price  Kms_Driven  Fuel_Type  Seller_Type  Transmission  \\\n0    2014           5.59       27000          0            0             0   \n1    2013           9.54       43000          1            0             0   \n2    2017           9.85        6900          0            0             0   \n3    2011           4.15        5200          0            0             0   \n4    2014           6.87       42450          1            0             0   \n..    ...            ...         ...        ...          ...           ...   \n296  2016          11.60       33988          1            0             0   \n297  2015           5.90       60000          0            0             0   \n298  2009          11.00       87934          0            0             0   \n299  2017          12.50        9000          1            0             0   \n300  2016           5.90        5464          0            0             0   \n\n     Owner  \n0        0  \n1        0  \n2        0  \n3        0  \n4        0  \n..     ...  \n296      0  \n297      0  \n298      0  \n299      0  \n300      0  \n\n[301 rows x 7 columns]\n0       3.35\n1       4.75\n2       7.25\n3       2.85\n4       4.60\n       ...  \n296     9.50\n297     4.00\n298     3.35\n299    11.50\n300     5.30\nName: Selling_Price, Length: 301, dtype: float64\n",
     "output_type": "stream",
     "data": {}
    }
   ],
   "execution_count": null
  },
  {
   "cell_type": "code",
   "metadata": {
    "tags": [],
    "cell_id": "00007-1ae3f9e1-db89-4b6a-af49-10d178ac1688",
    "deepnote_to_be_reexecuted": false,
    "source_hash": "94694a81",
    "execution_start": 1641607254666,
    "execution_millis": 14,
    "deepnote_cell_type": "code"
   },
   "source": "#split training & test data\nX_train, X_test, Y_train, Y_test = train_test_split(X, Y, test_size = 0.1, random_state = 2)",
   "outputs": [],
   "execution_count": null
  },
  {
   "cell_type": "code",
   "metadata": {
    "tags": [],
    "cell_id": "00008-54321955-ed55-47a2-96be-227a041924ac",
    "deepnote_to_be_reexecuted": false,
    "source_hash": "d0a50cd4",
    "execution_start": 1641607254687,
    "execution_millis": 12,
    "deepnote_output_heights": [
     21.1875
    ],
    "deepnote_cell_type": "code"
   },
   "source": "#calling model training\nlin_reg_model = LinearRegression()\n",
   "outputs": [],
   "execution_count": null
  },
  {
   "cell_type": "code",
   "metadata": {
    "tags": [],
    "cell_id": "00009-fc3c9bd0-084b-4c05-ba86-97fec4b34467",
    "deepnote_to_be_reexecuted": false,
    "source_hash": "5cdf5fb3",
    "execution_start": 1641607254706,
    "execution_millis": 16,
    "deepnote_output_heights": [
     21
    ],
    "deepnote_cell_type": "code"
   },
   "source": "lin_reg_model.fit(X_train, Y_train)",
   "outputs": [
    {
     "output_type": "execute_result",
     "execution_count": 58,
     "data": {
      "text/plain": "LinearRegression()"
     },
     "metadata": {}
    }
   ],
   "execution_count": null
  },
  {
   "cell_type": "code",
   "metadata": {
    "tags": [],
    "cell_id": "00010-1739f31e-488b-4654-95b7-960f7dc23406",
    "deepnote_to_be_reexecuted": false,
    "source_hash": "466ea5a1",
    "execution_start": 1641607254727,
    "execution_millis": 11,
    "deepnote_cell_type": "code"
   },
   "source": "#model evaluation\n#prediction on training data\n\ntraining_data_prediction = lin_reg_model.predict(X_train)\n",
   "outputs": [],
   "execution_count": null
  },
  {
   "cell_type": "code",
   "metadata": {
    "tags": [],
    "cell_id": "00011-af307908-56cb-48a0-9e78-1d5c323ede06",
    "deepnote_to_be_reexecuted": false,
    "source_hash": "7356b7a8",
    "execution_start": 1641607311399,
    "execution_millis": 7,
    "deepnote_cell_type": "code"
   },
   "source": "#r squared error\nerror_score = metrics.r2_score(Y_train, training_data_prediction)\nprint(\"r squared error: \", error_score)",
   "outputs": [
    {
     "name": "stdout",
     "text": "r squared error:  0.879945166049371\n",
     "output_type": "stream",
     "data": {}
    }
   ],
   "execution_count": null
  },
  {
   "cell_type": "code",
   "metadata": {
    "tags": [],
    "cell_id": "00012-6ceaea88-1cf7-4130-be56-6b1663f9b6cb",
    "deepnote_to_be_reexecuted": false,
    "source_hash": "be753e1b",
    "execution_start": 1641607583898,
    "execution_millis": 364,
    "deepnote_output_heights": [
     280
    ],
    "deepnote_cell_type": "code"
   },
   "source": "#visualize actual prices and predicted prices\n\nplt.scatter(Y_train, training_data_prediction)\nplt.xlabel(\"Actual prices\")\nplt.ylabel(\"Predicted Prices\")\nplt.title(\"Actual Prices vs Predicted Prices\")\nplt.show()",
   "outputs": [
    {
     "data": {
      "text/plain": "<Figure size 432x288 with 1 Axes>",
      "image/png": "[encoded data removed]"
     },
     "metadata": {
      "needs_background": "light",
      "image/png": {
       "width": 382,
       "height": 278
      }
     },
     "output_type": "display_data"
    }
   ],
   "execution_count": null
  },
  {
   "cell_type": "code",
   "metadata": {
    "tags": [],
    "cell_id": "00013-5f831fc7-66b3-4aed-b662-c6e1129472a6",
    "deepnote_to_be_reexecuted": false,
    "source_hash": "2f40e8b5",
    "execution_start": 1641607813597,
    "execution_millis": 2,
    "deepnote_cell_type": "code"
   },
   "source": "#test prediction\ntest_data_prediction = lin_reg_model.predict(X_test)",
   "outputs": [],
   "execution_count": null
  },
  {
   "cell_type": "code",
   "metadata": {
    "tags": [],
    "cell_id": "00014-75cb6d1f-bae4-475f-93f0-83e5a4a3975b",
    "deepnote_to_be_reexecuted": false,
    "source_hash": "a220fb51",
    "execution_start": 1641607845035,
    "execution_millis": 1,
    "deepnote_cell_type": "code"
   },
   "source": "#r squared error test\nerror_score_test = metrics.r2_score(Y_test, test_data_prediction)\nprint(\"r squared error: \", error_score_test)",
   "outputs": [
    {
     "name": "stdout",
     "text": "r squared error:  0.8365766715027515\n",
     "output_type": "stream",
     "data": {}
    }
   ],
   "execution_count": null
  },
  {
   "cell_type": "code",
   "metadata": {
    "tags": [],
    "cell_id": "00015-1891c74c-7928-472a-8070-c53d27b91a62",
    "deepnote_to_be_reexecuted": false,
    "source_hash": "c9f45b3b",
    "execution_start": 1641607930310,
    "execution_millis": 558,
    "deepnote_output_heights": [
     280
    ],
    "deepnote_cell_type": "code"
   },
   "source": "#visualize actual prices and test predicted prices\n\nplt.scatter(Y_test, test_data_prediction)\nplt.xlabel(\"Actual prices\")\nplt.ylabel(\"Predicted Prices\")\nplt.title(\"Actual Prices vs Predicted test Prices\")\nplt.show()",
   "outputs": [
    {
     "data": {
      "text/plain": "<Figure size 432x288 with 1 Axes>",
      "image/png": "[encoded data removed]"
     },
     "metadata": {
      "needs_background": "light",
      "image/png": {
       "width": 390,
       "height": 278
      }
     },
     "output_type": "display_data"
    }
   ],
   "execution_count": null
  },
  {
   "cell_type": "code",
   "metadata": {
    "tags": [],
    "cell_id": "00016-85444c18-cf7c-4ed5-a5e8-0b8f59031853",
    "deepnote_cell_type": "code"
   },
   "source": "#lasso regression\n\n",
   "outputs": [],
   "execution_count": null
  },
  {
   "cell_type": "markdown",
   "source": "<a style='text-decoration:none;line-height:16px;display:flex;color:#5B5B62;padding:10px;justify-content:end;' href='https://deepnote.com?utm_source=created-in-deepnote-cell&projectId=050c424d-4808-417f-bf01-ddcec3324e7b' target=\"_blank\">\n<img alt='Created in deepnote.com' style='display:inline;max-height:16px;margin:0px;margin-right:7.5px;' src='data:image/svg+xml;base64,PD94bWwgdmVyc2lvbj0iMS4wIiBlbmNvZGluZz0iVVRGLTgiPz4KPHN2ZyB3aWR0aD0iODBweCIgaGVpZ2h0PSI4MHB4IiB2aWV3Qm94PSIwIDAgODAgODAiIHZlcnNpb249IjEuMSIgeG1sbnM9Imh0dHA6Ly93d3cudzMub3JnLzIwMDAvc3ZnIiB4bWxuczp4bGluaz0iaHR0cDovL3d3dy53My5vcmcvMTk5OS94bGluayI+CiAgICA8IS0tIEdlbmVyYXRvcjogU2tldGNoIDU0LjEgKDc2NDkwKSAtIGh0dHBzOi8vc2tldGNoYXBwLmNvbSAtLT4KICAgIDx0aXRsZT5Hcm91cCAzPC90aXRsZT4KICAgIDxkZXNjPkNyZWF0ZWQgd2l0aCBTa2V0Y2guPC9kZXNjPgogICAgPGcgaWQ9IkxhbmRpbmciIHN0cm9rZT0ibm9uZSIgc3Ryb2tlLXdpZHRoPSIxIiBmaWxsPSJub25lIiBmaWxsLXJ1bGU9ImV2ZW5vZGQiPgogICAgICAgIDxnIGlkPSJBcnRib2FyZCIgdHJhbnNmb3JtPSJ0cmFuc2xhdGUoLTEyMzUuMDAwMDAwLCAtNzkuMDAwMDAwKSI+CiAgICAgICAgICAgIDxnIGlkPSJHcm91cC0zIiB0cmFuc2Zvcm09InRyYW5zbGF0ZSgxMjM1LjAwMDAwMCwgNzkuMDAwMDAwKSI+CiAgICAgICAgICAgICAgICA8cG9seWdvbiBpZD0iUGF0aC0yMCIgZmlsbD0iIzAyNjVCNCIgcG9pbnRzPSIyLjM3NjIzNzYyIDgwIDM4LjA0NzY2NjcgODAgNTcuODIxNzgyMiA3My44MDU3NTkyIDU3LjgyMTc4MjIgMzIuNzU5MjczOSAzOS4xNDAyMjc4IDMxLjY4MzE2ODMiPjwvcG9seWdvbj4KICAgICAgICAgICAgICAgIDxwYXRoIGQ9Ik0zNS4wMDc3MTgsODAgQzQyLjkwNjIwMDcsNzYuNDU0OTM1OCA0Ny41NjQ5MTY3LDcxLjU0MjI2NzEgNDguOTgzODY2LDY1LjI2MTk5MzkgQzUxLjExMjI4OTksNTUuODQxNTg0MiA0MS42NzcxNzk1LDQ5LjIxMjIyODQgMjUuNjIzOTg0Niw0OS4yMTIyMjg0IEMyNS40ODQ5Mjg5LDQ5LjEyNjg0NDggMjkuODI2MTI5Niw0My4yODM4MjQ4IDM4LjY0NzU4NjksMzEuNjgzMTY4MyBMNzIuODcxMjg3MSwzMi41NTQ0MjUgTDY1LjI4MDk3Myw2Ny42NzYzNDIxIEw1MS4xMTIyODk5LDc3LjM3NjE0NCBMMzUuMDA3NzE4LDgwIFoiIGlkPSJQYXRoLTIyIiBmaWxsPSIjMDAyODY4Ij48L3BhdGg+CiAgICAgICAgICAgICAgICA8cGF0aCBkPSJNMCwzNy43MzA0NDA1IEwyNy4xMTQ1MzcsMC4yNTcxMTE0MzYgQzYyLjM3MTUxMjMsLTEuOTkwNzE3MDEgODAsMTAuNTAwMzkyNyA4MCwzNy43MzA0NDA1IEM4MCw2NC45NjA0ODgyIDY0Ljc3NjUwMzgsNzkuMDUwMzQxNCAzNC4zMjk1MTEzLDgwIEM0Ny4wNTUzNDg5LDc3LjU2NzA4MDggNTMuNDE4MjY3Nyw3MC4zMTM2MTAzIDUzLjQxODI2NzcsNTguMjM5NTg4NSBDNTMuNDE4MjY3Nyw0MC4xMjg1NTU3IDM2LjMwMzk1NDQsMzcuNzMwNDQwNSAyNS4yMjc0MTcsMzcuNzMwNDQwNSBDMTcuODQzMDU4NiwzNy43MzA0NDA1IDkuNDMzOTE5NjYsMzcuNzMwNDQwNSAwLDM3LjczMDQ0MDUgWiIgaWQ9IlBhdGgtMTkiIGZpbGw9IiMzNzkzRUYiPjwvcGF0aD4KICAgICAgICAgICAgPC9nPgogICAgICAgIDwvZz4KICAgIDwvZz4KPC9zdmc+' > </img>\nCreated in <span style='font-weight:600;margin-left:4px;'>Deepnote</span></a>",
   "metadata": {
    "tags": [],
    "created_in_deepnote_cell": true,
    "deepnote_cell_type": "markdown"
   }
  }
 ],
 "nbformat": 4,
 "nbformat_minor": 2,
 "metadata": {
  "orig_nbformat": 2,
  "deepnote": {
   "is_reactive": false
  },
  "deepnote_notebook_id": "db089d3c-5bad-4901-a916-c23811baa4bb",
  "deepnote_execution_queue": []
 }
}